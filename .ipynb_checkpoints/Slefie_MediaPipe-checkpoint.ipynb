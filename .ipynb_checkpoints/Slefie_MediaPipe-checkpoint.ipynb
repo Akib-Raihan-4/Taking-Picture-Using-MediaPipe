{
 "cells": [
  {
   "cell_type": "code",
   "execution_count": 2,
   "id": "f24421a4",
   "metadata": {},
   "outputs": [
    {
     "name": "stdout",
     "output_type": "stream",
     "text": [
      "Collecting mediapipe\n",
      "  Downloading mediapipe-0.8.11-cp39-cp39-win_amd64.whl (49.0 MB)\n",
      "     ---------------------------------------- 49.0/49.0 MB 8.7 MB/s eta 0:00:00\n",
      "Collecting opencv-python\n",
      "  Using cached opencv_python-4.6.0.66-cp36-abi3-win_amd64.whl (35.6 MB)\n",
      "Collecting opencv-contrib-python\n",
      "  Downloading opencv_contrib_python-4.6.0.66-cp36-abi3-win_amd64.whl (42.5 MB)\n",
      "     ---------------------------------------- 42.5/42.5 MB 9.6 MB/s eta 0:00:00\n",
      "Collecting attrs>=19.1.0\n",
      "  Downloading attrs-22.1.0-py2.py3-none-any.whl (58 kB)\n",
      "     ---------------------------------------- 58.8/58.8 kB 3.2 MB/s eta 0:00:00\n",
      "Collecting numpy\n",
      "  Using cached numpy-1.23.3-cp39-cp39-win_amd64.whl (14.7 MB)\n",
      "Collecting matplotlib\n",
      "  Using cached matplotlib-3.6.0-cp39-cp39-win_amd64.whl (7.2 MB)\n",
      "Collecting absl-py\n",
      "  Using cached absl_py-1.2.0-py3-none-any.whl (123 kB)\n",
      "Collecting protobuf<4,>=3.11\n",
      "  Downloading protobuf-3.20.3-cp39-cp39-win_amd64.whl (904 kB)\n",
      "     ------------------------------------- 904.2/904.2 kB 11.5 MB/s eta 0:00:00\n",
      "Requirement already satisfied: python-dateutil>=2.7 in e:\\taking selfie(mediapipe)\\selmediapipe\\lib\\site-packages (from matplotlib->mediapipe) (2.8.2)\n",
      "Collecting cycler>=0.10\n",
      "  Using cached cycler-0.11.0-py3-none-any.whl (6.4 kB)\n",
      "Requirement already satisfied: packaging>=20.0 in e:\\taking selfie(mediapipe)\\selmediapipe\\lib\\site-packages (from matplotlib->mediapipe) (21.3)\n",
      "Requirement already satisfied: pyparsing>=2.2.1 in e:\\taking selfie(mediapipe)\\selmediapipe\\lib\\site-packages (from matplotlib->mediapipe) (3.0.9)\n",
      "Collecting pillow>=6.2.0\n",
      "  Using cached Pillow-9.2.0-cp39-cp39-win_amd64.whl (3.3 MB)\n",
      "Collecting contourpy>=1.0.1\n",
      "  Using cached contourpy-1.0.5-cp39-cp39-win_amd64.whl (161 kB)\n",
      "Collecting kiwisolver>=1.0.1\n",
      "  Using cached kiwisolver-1.4.4-cp39-cp39-win_amd64.whl (55 kB)\n",
      "Collecting fonttools>=4.22.0\n",
      "  Downloading fonttools-4.37.4-py3-none-any.whl (960 kB)\n",
      "     -------------------------------------- 960.8/960.8 kB 8.6 MB/s eta 0:00:00\n",
      "Requirement already satisfied: six>=1.5 in e:\\taking selfie(mediapipe)\\selmediapipe\\lib\\site-packages (from python-dateutil>=2.7->matplotlib->mediapipe) (1.16.0)\n",
      "Installing collected packages: protobuf, pillow, numpy, kiwisolver, fonttools, cycler, attrs, absl-py, opencv-python, opencv-contrib-python, contourpy, matplotlib, mediapipe\n",
      "Successfully installed absl-py-1.2.0 attrs-22.1.0 contourpy-1.0.5 cycler-0.11.0 fonttools-4.37.4 kiwisolver-1.4.4 matplotlib-3.6.0 mediapipe-0.8.11 numpy-1.23.3 opencv-contrib-python-4.6.0.66 opencv-python-4.6.0.66 pillow-9.2.0 protobuf-3.20.3\n",
      "Note: you may need to restart the kernel to use updated packages.\n"
     ]
    }
   ],
   "source": [
    "# pip install mediapipe opencv-python"
   ]
  },
  {
   "cell_type": "code",
   "execution_count": 1,
   "id": "bc9fa38a",
   "metadata": {},
   "outputs": [],
   "source": [
    "import cv2\n",
    "import mediapipe as mp"
   ]
  },
  {
   "cell_type": "code",
   "execution_count": 2,
   "id": "870f7067",
   "metadata": {},
   "outputs": [],
   "source": [
    "import pywhatkit as what"
   ]
  },
  {
   "cell_type": "code",
   "execution_count": null,
   "id": "dea18fda",
   "metadata": {},
   "outputs": [],
   "source": [
    "what.playonyt(\"https://www.youtube.com/watch?v=qal34e9v_pk&ab_channel=AniMelody%E2%80%93AnimeMusic\")"
   ]
  },
  {
   "cell_type": "code",
   "execution_count": 3,
   "id": "3d6a1edb",
   "metadata": {},
   "outputs": [],
   "source": [
    "mpHands = mp.solutions.hands\n",
    "hands = mpHands.Hands()\n"
   ]
  },
  {
   "cell_type": "code",
   "execution_count": 4,
   "id": "873b854b",
   "metadata": {},
   "outputs": [],
   "source": [
    "def coordinate(id, h, w, color):\n",
    "    cx, cy = int(lm.x*w), int(lm.y*h)\n",
    "    cv2.circle(img, (int(cx),int(cy)), 3, color, cv2.FILLED)\n",
    "    return cx, cy"
   ]
  },
  {
   "cell_type": "code",
   "execution_count": 5,
   "id": "21eb3baa",
   "metadata": {},
   "outputs": [],
   "source": [
    "cap = cv2.VideoCapture(0)\n",
    "take_photo = 0\n",
    "hehe = 0\n",
    "while True:\n",
    "    success, img = cap.read()\n",
    "    \n",
    "    if not success:\n",
    "        break\n",
    "    \n",
    "    imgRGB = cv2.cvtColor(img, cv2.COLOR_BGR2RGB)\n",
    "    results = hands.process(imgRGB)\n",
    "    \n",
    "    h,w,c = img.shape\n",
    "    \n",
    "    hand_straight = 0\n",
    "    hand_Vshape = 0\n",
    "    \n",
    "    if results.multi_hand_landmarks:\n",
    "        for handsLms in results.multi_hand_landmarks:\n",
    "            for id, lm in enumerate(handsLms.landmark):\n",
    "                if id == 16:\n",
    "                    cx_16, cy_16 = coordinate(id,h,w,(100,250,255))\n",
    "                if id == 20:\n",
    "                    cx_20, cy_20 = coordinate(id,h,w,(10,20,250))\n",
    "                if id == 13:\n",
    "                    cx_13, cy_13 = coordinate(id,h,w,(10,25,25))\n",
    "                if id == 17:\n",
    "                    cx_17, cy_17 = coordinate(id,h,w,(10,0,255))\n",
    "                if id == 5:\n",
    "                    cx_5, cy_5 = coordinate(id,h,w,(10,250,255))\n",
    "                if id == 9:\n",
    "                    cx_9, cy_9 = coordinate(id,h,w,(10,250,255))\n",
    "                if id == 8:\n",
    "                    cx_8, cy_8 = coordinate(id,h,w,(10,200,255))\n",
    "                if id == 12:\n",
    "                    cx_12, cy_12 = coordinate(id,h,w,(10,250,255))\n",
    "                if id == 3:\n",
    "                    cx_3, cy_3 = coordinate(id,h,w,(10,250,255))\n",
    "                if id == 2:\n",
    "                    cx_2, cy_2 = coordinate(id,h,w,(10,250,255))\n",
    "                if id == 0:\n",
    "                    cx_0, cy_0 = coordinate(id,h,w,(10,250,255))\n",
    "                    \n",
    "            if (cy_2 > cy_5 and cy_2 < cy_0) and (cy_3 > cy_5 and cy_3 < cy_0):\n",
    "                hand_straight = 1\n",
    "                \n",
    "            if (abs(cx_8-cx_12)>20):\n",
    "                hand_Vshape = 1\n",
    "            \n",
    "            if (cy_16 > cy_13 and cy_20 > cy_17) and (cy_12 < cy_9 and cy_8 < cy_5) and hand_straight == 1 and hand_Vshape == 1:\n",
    "                take_photo = 120   \n",
    "                \n",
    "            if(cy_12<cy_9) and (cy_16 > cy_13 and cy_20 > cy_17 and cy_8 > cy_5 ) and hand_straight ==1:\n",
    "                what.playonyt(\"https://www.youtube.com/watch?v=dQw4w9WgXcQ&ab_channel=RickAstley\")\n",
    "    if take_photo>1:\n",
    "        if take_photo>= 90:\n",
    "            cv2.putText(img, '3' , (int(w/2),int(h/2)), cv2.FONT_HERSHEY_SIMPLEX, 3,(255,255,255),3)\n",
    "        elif take_photo>= 60:\n",
    "            cv2.putText(img, '2' , (int(w/2),int(h/2)), cv2.FONT_HERSHEY_SIMPLEX, 3,(255,255,255),3)\n",
    "        elif take_photo>= 30:\n",
    "            cv2.putText(img, '1' , (int(w/2),int(h/2)), cv2.FONT_HERSHEY_SIMPLEX, 3,(255,255,255),3)\n",
    "        take_photo -=1\n",
    "    elif take_photo ==1:\n",
    "        cv2.imwrite(\"photo.jpg\", img)\n",
    "        take_photo = 0;\n",
    "    \n",
    "    cv2.imshow(\"Slefie✌️\",img)\n",
    "    \n",
    "    if cv2.waitKey(10) & 0xFF==ord('q'):\n",
    "        break\n",
    "cap.release()\n",
    "cv2.destroyAllWindows()"
   ]
  },
  {
   "cell_type": "code",
   "execution_count": 30,
   "id": "710b389a",
   "metadata": {},
   "outputs": [
    {
     "name": "stdout",
     "output_type": "stream",
     "text": [
      "-40\n",
      "170\n",
      "274\n"
     ]
    }
   ],
   "source": [
    "print(cx_12 - cx_8)\n",
    "print(cy_8)\n",
    "print(cy_2)"
   ]
  }
 ],
 "metadata": {
  "kernelspec": {
   "display_name": "selMediaPipe",
   "language": "python",
   "name": "selmediapipe"
  },
  "language_info": {
   "codemirror_mode": {
    "name": "ipython",
    "version": 3
   },
   "file_extension": ".py",
   "mimetype": "text/x-python",
   "name": "python",
   "nbconvert_exporter": "python",
   "pygments_lexer": "ipython3",
   "version": "3.9.12"
  },
  "toc": {
   "base_numbering": 1,
   "nav_menu": {},
   "number_sections": true,
   "sideBar": true,
   "skip_h1_title": false,
   "title_cell": "Table of Contents",
   "title_sidebar": "Contents",
   "toc_cell": false,
   "toc_position": {},
   "toc_section_display": true,
   "toc_window_display": false
  }
 },
 "nbformat": 4,
 "nbformat_minor": 5
}
